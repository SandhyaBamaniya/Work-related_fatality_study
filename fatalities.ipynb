{
  "metadata": {
    "language_info": {
      "codemirror_mode": {
        "name": "python",
        "version": 3
      },
      "file_extension": ".py",
      "mimetype": "text/x-python",
      "name": "python",
      "nbconvert_exporter": "python",
      "pygments_lexer": "ipython3",
      "version": "3.8"
    },
    "kernelspec": {
      "name": "python",
      "display_name": "Python (Pyodide)",
      "language": "python"
    }
  },
  "nbformat_minor": 4,
  "nbformat": 4,
  "cells": [
    {
      "cell_type": "code",
      "source": "import pandas as pd\nimport numpy as np",
      "metadata": {
        "trusted": true
      },
      "execution_count": 18,
      "outputs": []
    },
    {
      "cell_type": "code",
      "source": "#Task 1: Read the given dataset\n#read the 'fatality.csv' file\ndf = pd.read_csv(\"fatality.csv\")\ndf.head()",
      "metadata": {
        "trusted": true
      },
      "execution_count": 19,
      "outputs": [
        {
          "execution_count": 19,
          "output_type": "execute_result",
          "data": {
            "text/plain": "   id incident_date day_of_week          city         state  \\\n0   1    2009-06-23   tuesday           tampa       florida   \n1   2    2009-06-30   tuesday          conroe         texas   \n2   3    2009-07-06   monday            miami       florida   \n3   4    2009-07-09   thursday   north platte      nebraska   \n4   5    2009-07-11   saturday     greensburg  pennsylvania   \n\n                                         description     plan citation  \\\n0  Victim was inside a building bundling material...  unknown  unknown   \n1  Victim was on a scaffold doing repairs on an a...  unknown  unknown   \n2  Victim was conducting roofing work, and fell t...  unknown  unknown   \n3  Victim was climbing a ladder while servicing a...  unknown  unknown   \n4  Employees were throwing away old files. They h...  unknown  unknown   \n\n   Unnamed  \n0        0  \n1        0  \n2        0  \n3        0  \n4        0  ",
            "text/html": "<div>\n<style scoped>\n    .dataframe tbody tr th:only-of-type {\n        vertical-align: middle;\n    }\n\n    .dataframe tbody tr th {\n        vertical-align: top;\n    }\n\n    .dataframe thead th {\n        text-align: right;\n    }\n</style>\n<table border=\"1\" class=\"dataframe\">\n  <thead>\n    <tr style=\"text-align: right;\">\n      <th></th>\n      <th>id</th>\n      <th>incident_date</th>\n      <th>day_of_week</th>\n      <th>city</th>\n      <th>state</th>\n      <th>description</th>\n      <th>plan</th>\n      <th>citation</th>\n      <th>Unnamed</th>\n    </tr>\n  </thead>\n  <tbody>\n    <tr>\n      <th>0</th>\n      <td>1</td>\n      <td>2009-06-23</td>\n      <td>tuesday</td>\n      <td>tampa</td>\n      <td>florida</td>\n      <td>Victim was inside a building bundling material...</td>\n      <td>unknown</td>\n      <td>unknown</td>\n      <td>0</td>\n    </tr>\n    <tr>\n      <th>1</th>\n      <td>2</td>\n      <td>2009-06-30</td>\n      <td>tuesday</td>\n      <td>conroe</td>\n      <td>texas</td>\n      <td>Victim was on a scaffold doing repairs on an a...</td>\n      <td>unknown</td>\n      <td>unknown</td>\n      <td>0</td>\n    </tr>\n    <tr>\n      <th>2</th>\n      <td>3</td>\n      <td>2009-07-06</td>\n      <td>monday</td>\n      <td>miami</td>\n      <td>florida</td>\n      <td>Victim was conducting roofing work, and fell t...</td>\n      <td>unknown</td>\n      <td>unknown</td>\n      <td>0</td>\n    </tr>\n    <tr>\n      <th>3</th>\n      <td>4</td>\n      <td>2009-07-09</td>\n      <td>thursday</td>\n      <td>north platte</td>\n      <td>nebraska</td>\n      <td>Victim was climbing a ladder while servicing a...</td>\n      <td>unknown</td>\n      <td>unknown</td>\n      <td>0</td>\n    </tr>\n    <tr>\n      <th>4</th>\n      <td>5</td>\n      <td>2009-07-11</td>\n      <td>saturday</td>\n      <td>greensburg</td>\n      <td>pennsylvania</td>\n      <td>Employees were throwing away old files. They h...</td>\n      <td>unknown</td>\n      <td>unknown</td>\n      <td>0</td>\n    </tr>\n  </tbody>\n</table>\n</div>"
          },
          "metadata": {}
        }
      ]
    },
    {
      "cell_type": "code",
      "source": "#Task 2: Clean the given dataset\n# Remove the 'Unnamed' column\ndf = df.drop('Unnamed', axis = 1)",
      "metadata": {
        "trusted": true
      },
      "execution_count": 20,
      "outputs": []
    },
    {
      "cell_type": "code",
      "source": "#Task 3: Export the cleaned dataset to \"fatalities_cleaned.csv\"\ndf.to_csv('fatalities_cleaned.csv', index=False)",
      "metadata": {
        "trusted": true
      },
      "execution_count": 22,
      "outputs": []
    },
    {
      "cell_type": "code",
      "source": "",
      "metadata": {},
      "execution_count": null,
      "outputs": []
    }
  ]
}